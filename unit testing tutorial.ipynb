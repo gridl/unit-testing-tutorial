{
 "cells": [
  {
   "cell_type": "code",
   "execution_count": 1,
   "metadata": {},
   "outputs": [],
   "source": [
    "import unittest\n",
    "\n",
    "def run(klass):\n",
    "    suite = unittest.TestLoader().loadTestsFromTestCase(klass)\n",
    "    unittest.TextTestRunner(verbosity=2).run(suite)"
   ]
  },
  {
   "cell_type": "code",
   "execution_count": 2,
   "metadata": {},
   "outputs": [
    {
     "name": "stderr",
     "output_type": "stream",
     "text": [
      "test_wrong (__main__.SimpleFailingTest) ... FAIL\n",
      "\n",
      "======================================================================\n",
      "FAIL: test_wrong (__main__.SimpleFailingTest)\n",
      "----------------------------------------------------------------------\n",
      "Traceback (most recent call last):\n",
      "  File \"<ipython-input-2-a1e6de14ed68>\", line 3, in test_wrong\n",
      "    self.assertEqual(0, 1)\n",
      "AssertionError: 0 != 1\n",
      "\n",
      "----------------------------------------------------------------------\n",
      "Ran 1 test in 0.004s\n",
      "\n",
      "FAILED (failures=1)\n"
     ]
    }
   ],
   "source": [
    "class SimpleFailingTest(unittest.TestCase):\n",
    "    def test_wrong(self):\n",
    "        self.assertEqual(0, 1)\n",
    "run(SimpleFailingTest)"
   ]
  },
  {
   "cell_type": "markdown",
   "metadata": {},
   "source": [
    "# Assertions"
   ]
  },
  {
   "cell_type": "code",
   "execution_count": 8,
   "metadata": {},
   "outputs": [
    {
     "name": "stderr",
     "output_type": "stream",
     "text": [
      "test_exc (__main__.WeirdFailures) ... FAIL\n",
      "test_greater (__main__.WeirdFailures) ... FAIL\n",
      "\n",
      "======================================================================\n",
      "FAIL: test_exc (__main__.WeirdFailures)\n",
      "----------------------------------------------------------------------\n",
      "Traceback (most recent call last):\n",
      "  File \"<ipython-input-8-0c6b7a9f1cc2>\", line 6, in test_exc\n",
      "    a=1\n",
      "AssertionError: KeyError not raised\n",
      "\n",
      "======================================================================\n",
      "FAIL: test_greater (__main__.WeirdFailures)\n",
      "----------------------------------------------------------------------\n",
      "Traceback (most recent call last):\n",
      "  File \"<ipython-input-8-0c6b7a9f1cc2>\", line 3, in test_greater\n",
      "    self.assertGreater(0, 1)\n",
      "AssertionError: 0 not greater than 1\n",
      "\n",
      "----------------------------------------------------------------------\n",
      "Ran 2 tests in 0.004s\n",
      "\n",
      "FAILED (failures=2)\n"
     ]
    }
   ],
   "source": [
    "class WeirdFailures(unittest.TestCase):\n",
    "    def test_greater(self):\n",
    "        self.assertGreater(0, 1)\n",
    "    def test_exc(self):\n",
    "        with self.assertRaises(KeyError):\n",
    "            a=1\n",
    "run(WeirdFailures)"
   ]
  },
  {
   "cell_type": "code",
   "execution_count": null,
   "metadata": {},
   "outputs": [],
   "source": []
  },
  {
   "cell_type": "markdown",
   "metadata": {},
   "source": [
    "# Setup"
   ]
  },
  {
   "cell_type": "code",
   "execution_count": 11,
   "metadata": {},
   "outputs": [
    {
     "name": "stderr",
     "output_type": "stream",
     "text": [
      "test_bar (__main__.StateTests) ... FAIL\n",
      "test_foo (__main__.StateTests) ... FAIL\n",
      "\n",
      "======================================================================\n",
      "FAIL: test_bar (__main__.StateTests)\n",
      "----------------------------------------------------------------------\n",
      "Traceback (most recent call last):\n",
      "  File \"<ipython-input-11-ce517e51cbab>\", line 9, in test_bar\n",
      "    self.assertLess(self.a[0], self.a[-1])\n",
      "AssertionError: 3 not less than 1\n",
      "\n",
      "======================================================================\n",
      "FAIL: test_foo (__main__.StateTests)\n",
      "----------------------------------------------------------------------\n",
      "Traceback (most recent call last):\n",
      "  File \"<ipython-input-11-ce517e51cbab>\", line 6, in test_foo\n",
      "    self.assertGreater(self.a[0], self.a[-1])\n",
      "AssertionError: 1 not greater than 3\n",
      "\n",
      "----------------------------------------------------------------------\n",
      "Ran 2 tests in 0.004s\n",
      "\n",
      "FAILED (failures=2)\n"
     ]
    }
   ],
   "source": [
    "class StateTests(unittest.TestCase):\n",
    "    def setUp(self):\n",
    "        self.a = [1,2,3]\n",
    "    def test_foo(self):\n",
    "        self.a.sort()\n",
    "        self.assertGreater(self.a[0], self.a[-1])\n",
    "    def test_bar(self):\n",
    "        self.a.reverse()\n",
    "        self.assertLess(self.a[0], self.a[-1])\n",
    "run(StateTests)\n"
   ]
  },
  {
   "cell_type": "markdown",
   "metadata": {},
   "source": [
    "# Clean-up"
   ]
  },
  {
   "cell_type": "code",
   "execution_count": null,
   "metadata": {},
   "outputs": [],
   "source": [
    "class CleanupTest(unittest.TestCase):\n",
    "    def test_foo(self):\n",
    "        def cleanup():\n",
    "            self.a = None\n",
    "        self.addCleanup(cleanup)\n",
    "        self.a = [1,2,3]"
   ]
  }
 ],
 "metadata": {
  "kernelspec": {
   "display_name": "Python 3",
   "language": "python",
   "name": "python3"
  },
  "language_info": {
   "codemirror_mode": {
    "name": "ipython",
    "version": 3
   },
   "file_extension": ".py",
   "mimetype": "text/x-python",
   "name": "python",
   "nbconvert_exporter": "python",
   "pygments_lexer": "ipython3",
   "version": "3.6.1"
  }
 },
 "nbformat": 4,
 "nbformat_minor": 2
}
